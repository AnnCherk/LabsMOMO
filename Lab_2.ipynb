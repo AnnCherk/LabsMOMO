{
  "cells": [
    {
      "cell_type": "markdown",
      "metadata": {
        "id": "view-in-github",
        "colab_type": "text"
      },
      "source": [
        "<a href=\"https://colab.research.google.com/github/AnnCherk/LabsMOMO/blob/main/Lab_2.ipynb\" target=\"_parent\"><img src=\"https://colab.research.google.com/assets/colab-badge.svg\" alt=\"Open In Colab\"/></a>"
      ]
    },
    {
      "cell_type": "markdown",
      "metadata": {
        "id": "tWwrEXJ01_Q7"
      },
      "source": [
        "## Лабораторная работа 2: Использование численных методов в задачах оптимизации\n",
        "_Команда 9_ <br>\n",
        "_Куимов, Оплетаев, Подольская, Черкасская_\n",
        "### 1. Поиск минимума функции:\n",
        "\n",
        "\\begin{align}\n",
        "f(x)= \\frac {1}{2} [ (x_ {1})^ {2} + \\sum _ {i=1}^ {2} (x_ {i}-x_ {i+1})^ {2} + (x_ {3})^ {2} ]- x_ {1}\n",
        "\\end{align}\n",
        "\n",
        "\n",
        "##### Представление применимости алгоритмов BFGS и L-BFGS к данной оптимизационной задаче"
      ]
    },
    {
      "cell_type": "markdown",
      "source": [
        "Чтобы алгоритмы BFGS и L-BFGS могли быть использованы в данной задаче оптимизации необходимо, чтобы функция была дваждый дифференцирума и выпукла. Докажем это.\n",
        "\n",
        "Первые производные:\n",
        "\\begin{align}\n",
        "        \\frac{df}{dx_1}=2x_1-x_2-1, \\frac{df}{dx_2}=-x_1+2x_2-x_3, \\frac{df}{dx_3}=-x_2+2x_3\n",
        "    \\end{align}\n",
        "\n",
        "Вторые производные:\n",
        "\\begin{align}\n",
        "        \\frac{df}{dx_1^2}=2, \\frac{df}{dx_2^2}=2, \\frac{df}{dx_3^2}=2\n",
        "    \\end{align}\n",
        "\n",
        "Смешанные производные:\n",
        "\\begin{align}\n",
        "        \\frac{df}{dx_1 dx_2}=-1 ,  \\frac{df}{dx_1 dx_3 }=0 ,  \\frac{df}{dx_2 dx_1}=-1, \\frac{df}{dx_2 dx_3}=-1 , \\frac{df}{dx_3 dx_1}=0 ,  \\frac{df}{dx_3 dx_2}=-1\n",
        "    \\end{align}\n",
        "\n",
        "Целвая функция дважды дифференцируема.\n",
        "\n",
        "Далее проверим функцию на выпуклость. Для этого построим матрицу вторых производных Гессе – H.\n",
        "\n",
        "\\begin{align}\n",
        "        H = \\begin{pmatrix}\n",
        "        \\frac{df}{dx_1^2} & \\frac{df}{dx_1 dx_2} &  \\frac{df}{dx_1 dx_3}\\\\\n",
        "        \\frac{df}{dx_2 dx_1} & \\frac{df}{dx_2^2} &  \\frac{df}{dx_2 dx_3} \\\\\n",
        "        \\frac{df}{dx_3 dx_1} & \\frac{df}{dx_3 dx_2} &  \\frac{df}{dx_3^2}\n",
        "        \\end{pmatrix}=\\begin{pmatrix}\n",
        "        2 & -1 &  0\\\\\n",
        "        -1 & 2 &  -1 \\\\\n",
        "        0 & -1 &  2\n",
        "        \\end{pmatrix}.\n",
        "    \\end{align}\n",
        "\n",
        "Если матрица Гессе положительно определенная или положутельно полуопределенная, то функция – выпуклая. Проверим собственные числа матрицы H."
      ],
      "metadata": {
        "id": "TTnBGLxQQlXO"
      }
    },
    {
      "cell_type": "code",
      "source": [
        "import numpy as np"
      ],
      "metadata": {
        "id": "NB1S900tqh4X"
      },
      "execution_count": null,
      "outputs": []
    },
    {
      "cell_type": "code",
      "source": [
        "H=np.array([[2, -1, 0],[-1, 2, -1],[0, -1, 2]])\n",
        "eigenvalues = np.linalg.eigvals(H)\n",
        "\n",
        "print(\"Собственные числа матрицы H:\")\n",
        "print(eigenvalues)"
      ],
      "metadata": {
        "colab": {
          "base_uri": "https://localhost:8080/"
        },
        "id": "GSbcDDh5lOWo",
        "outputId": "21c96a3f-a74d-495a-90ac-414e224a3067"
      },
      "execution_count": null,
      "outputs": [
        {
          "output_type": "stream",
          "name": "stdout",
          "text": [
            "Собственные числа матрицы H:\n",
            "[3.41421356 2.         0.58578644]\n"
          ]
        }
      ]
    },
    {
      "cell_type": "markdown",
      "source": [
        "Все собственные значения матрицы H положительны, то матрица Гессе положительно определена, и функция является строго выпуклой.\n",
        "\n",
        "Таким образом, алгоритмы BFGS и L-BFGS применимы к данной задаче.\n"
      ],
      "metadata": {
        "id": "OlBmCFPll9-p"
      }
    },
    {
      "cell_type": "markdown",
      "metadata": {
        "id": "dNrqtLbI1_RB"
      },
      "source": [
        "##### Реализация алгоритмов BFGS и L-BFGS"
      ]
    },
    {
      "cell_type": "code",
      "source": [
        "# Представление функции\n",
        "def f(x):\n",
        "  x1=x[0]\n",
        "  x2=x[1]\n",
        "  x3=x[2]\n",
        "  return 0.5*(x1**2+(x1-x2)**2+(x2-x3)**2+x3**2)-x1"
      ],
      "metadata": {
        "id": "WpVCDARnqlpz"
      },
      "execution_count": null,
      "outputs": []
    },
    {
      "cell_type": "code",
      "source": [
        "# Аналитическое представление градиента\n",
        "def grad_f(x):\n",
        "  x1=x[0]\n",
        "  x2=x[1]\n",
        "  x3=x[2]\n",
        "  return np.array([2*x1-x2-1, -x1+2*x2-x3, -x2+2*x3])"
      ],
      "metadata": {
        "id": "8owevR8HrYK8"
      },
      "execution_count": null,
      "outputs": []
    },
    {
      "cell_type": "code",
      "source": [
        "# Численное задание градиента\n",
        "def num_grad_f(x, f=f, h=1e-6):\n",
        "    grad=np.zeros(len(x))\n",
        "\n",
        "    for i in range(len(x)):\n",
        "        x_plus_h=x.copy()\n",
        "        x_minus_h=x.copy()\n",
        "\n",
        "        x_plus_h[i]+=h\n",
        "        x_minus_h[i]-=h\n",
        "\n",
        "        grad[i]=(f(x_plus_h)-f(x_minus_h))/(2 * h)\n",
        "\n",
        "    return grad"
      ],
      "metadata": {
        "id": "FEBtH7d8shLN"
      },
      "execution_count": null,
      "outputs": []
    },
    {
      "cell_type": "code",
      "source": [
        "#Функции линейного поиска величины шага\n",
        "def zoom(f, grad, x, p, a_low=0, a_high=1e5, c1=0.1, c2=0.9, max_iter = 100):\n",
        "    i = 0\n",
        "\n",
        "    while i<max_iter:\n",
        "        alpha_j = (a_low + a_high) / 2\n",
        "        beta_j = f(x + alpha_j*p)\n",
        "        gamma_j = grad(x + alpha_j*p).dot(p)\n",
        "\n",
        "        beta_low = f(x + a_low*p)\n",
        "\n",
        "        if (beta_j > f(x) + c1*alpha_j*grad(x).dot(p)) or (beta_j >= beta_low):\n",
        "            a_high = alpha_j\n",
        "        else:\n",
        "            if abs(gamma_j) <= -c2*grad(x).dot(p):\n",
        "                return alpha_j\n",
        "\n",
        "            if gamma_j*(a_high - a_low) >= 0:\n",
        "                a_high = a_low\n",
        "\n",
        "            a_low = alpha_j\n",
        "\n",
        "        i+=1\n",
        "\n",
        "    return a_low\n",
        "\n",
        "\n",
        "def line_search(f, grad, x, p, c1=0.1, c2=0.9, a_max=1, max_iter=100):\n",
        "    alpha=a_max\n",
        "    i=0\n",
        "\n",
        "    phi0 = f(x)\n",
        "    beta0 = grad(x).dot(p)\n",
        "\n",
        "    while i<max_iter:\n",
        "        phi = f(x+alpha*p)\n",
        "\n",
        "        if (phi>phi0+c1*alpha*beta0) or ((phi >= phi0) and (i>0)):\n",
        "            return zoom(f, grad, x, p, alpha, a_max, c1, c2)\n",
        "\n",
        "        beta=grad(x+alpha*p).dot(p)\n",
        "\n",
        "        if abs(beta) <= -c2*beta0:\n",
        "            return alpha\n",
        "\n",
        "        if beta >= 0:\n",
        "            return zoom(f, grad, x, p, alpha, a_max, c1, c2)\n",
        "\n",
        "        alpha=alpha*2\n",
        "        i+=1\n",
        "\n",
        "    return alpha"
      ],
      "metadata": {
        "id": "ITLWMwhPvFrc"
      },
      "execution_count": null,
      "outputs": []
    },
    {
      "cell_type": "code",
      "execution_count": null,
      "metadata": {
        "id": "52VJKQ8C1_RB"
      },
      "outputs": [],
      "source": [
        "# Функции оптимизации\n",
        "def bfgs_optimizer(f, grad, x0, H_init, max_iter=100, tol=1e-6):\n",
        "    n = len(x0)\n",
        "    x = x0.copy()\n",
        "    H = H_init(x)  # Инициализация аппроксимации обратной гессианы\n",
        "    g = grad(x)  # вычисление градиента в начальной точке\n",
        "\n",
        "    for _ in range(max_iter):\n",
        "        p=-np.dot(H, g)  # вычисление направления спуска\n",
        "\n",
        "        # Поиск величины шага\n",
        "        alpha = line_search(f, grad, x, p)\n",
        "\n",
        "        x_new = x + alpha * p  # Новая точка\n",
        "\n",
        "        g_new = grad(x_new)\n",
        "        y=g_new - g\n",
        "        s=x_new - x\n",
        "\n",
        "        # Обновление приближения обратной гессианы с использованием формулы BFGS\n",
        "        A = np.eye(n) - np.outer(s, y)/np.dot(y, s)\n",
        "        H = np.dot(A, np.dot(H, np.transpose(A)))+np.outer(s, s)/np.dot(y, s)\n",
        "\n",
        "        # Проверка условия сходимости\n",
        "        if np.linalg.norm(g_new) < tol:\n",
        "            break\n",
        "\n",
        "        x = x_new\n",
        "        g = g_new\n",
        "\n",
        "    return x\n",
        "\n",
        "\n",
        "def lbfgs_optimizer(f, grad, x0, H_init, m=100, max_iter=1000, eps=1e-6):\n",
        "    # Инициализация\n",
        "    x = x0.copy()\n",
        "    n = len(x)\n",
        "    s = np.zeros((m, n))\n",
        "    y = np.zeros((m, n))\n",
        "    phi = np.zeros(m)\n",
        "    alpha = np.zeros(m)\n",
        "\n",
        "    # Инициализация матрицы Гессе\n",
        "    H = H_init(x)\n",
        "\n",
        "    for k in range(max_iter):\n",
        "        # Вычисление градиента\n",
        "        g = grad(x)\n",
        "\n",
        "        # Проверка условия остановки\n",
        "        if k > 0 and abs(f(x) - f(x_prev)) < eps:\n",
        "            break\n",
        "\n",
        "        if k < m:\n",
        "            p = -np.dot(H, g) # Определения направления шага\n",
        "        else:\n",
        "            q = g.copy()\n",
        "            for i in range(m-1, -1, -1):\n",
        "                alpha[i] = phi[i] * np.dot(s[i], q)\n",
        "                q -= alpha[i] * y[i]\n",
        "            p = q\n",
        "\n",
        "        # Адаптивный шаг поиска\n",
        "        alpha_k = 1.0\n",
        "        x_new = x + alpha_k * p\n",
        "        while f(x_new) > f(x) + 1e-4 * alpha_k * np.dot(g, p):\n",
        "            alpha_k *= 0.5\n",
        "            x_new = x + alpha_k * p\n",
        "\n",
        "        # Обновление памяти\n",
        "        s[k % m] = x_new - x\n",
        "        y[k % m] = grad(x_new) - g\n",
        "\n",
        "        if np.dot(y[k % m], s[k % m]) == 0:\n",
        "            phi[k % m] = 0\n",
        "        else:\n",
        "            phi[k % m] = 1.0 / np.dot(y[k % m], s[k % m])\n",
        "\n",
        "        x_prev = x.copy()\n",
        "        x = x_new\n",
        "\n",
        "        # Обновление матрицы Гессе\n",
        "        if k >= m:\n",
        "            r = np.dot(H, y[(k-1) % m])\n",
        "            gamma = np.dot(s[(k-1) % m], y[(k-1) % m]) / np.dot(y[(k-1) % m], y[(k-1) % m])\n",
        "            H += np.outer(s[(k-1) % m], s[(k-1) % m]) / np.dot(y[(k-1) % m], s[(k-1) % m]) - np.outer(r, r) / np.dot(y[(k-1) % m], r) + gamma * np.outer(r, r)\n",
        "\n",
        "    return x"
      ]
    },
    {
      "cell_type": "markdown",
      "metadata": {
        "id": "AEUBWimL1_RB"
      },
      "source": [
        "##### Приближение матрицы Гессе"
      ]
    },
    {
      "cell_type": "code",
      "execution_count": null,
      "metadata": {
        "id": "mHaxmcdE1_RC"
      },
      "outputs": [],
      "source": [
        "#Инициализация приближения матрицы Гессе через единичную матрицу\n",
        "def H_ones(x):\n",
        "  H = np.eye(len(x))\n",
        "  return H\n",
        "\n",
        "\n",
        "#Инициализация приближения матрицы Гессе через вычисленные на основе конечных разностей частные производные целевой функции\n",
        "def H_approx_initial(x, f=f, h=1e-6):\n",
        "  H = np.zeros((len(x), len(x)))\n",
        "\n",
        "  for i in range(len(x)):\n",
        "      for j in range(len(x)):\n",
        "          e_i = np.zeros(len(x))\n",
        "          e_i[i] = 1\n",
        "          e_j = np.zeros(len(x))\n",
        "          e_j[j] = 1\n",
        "\n",
        "          H[i][j] = (f(x + h * e_i + h * e_j) - f(x + h * e_i) - f(x + h * e_j) + f(x)) / (h**2)\n",
        "\n",
        "  return H"
      ]
    },
    {
      "cell_type": "markdown",
      "metadata": {
        "id": "gQNVcV0r1_RC"
      },
      "source": [
        "##### Сравнение алгоритмов BFGS и L-BFGS"
      ]
    },
    {
      "cell_type": "code",
      "source": [
        "# Начальное приближение\n",
        "x0 = [-1, 0, 110]"
      ],
      "metadata": {
        "id": "ANm43M-iSb_z"
      },
      "execution_count": null,
      "outputs": []
    },
    {
      "cell_type": "code",
      "execution_count": null,
      "metadata": {
        "id": "OlxF0FZz1_RC",
        "colab": {
          "base_uri": "https://localhost:8080/"
        },
        "outputId": "875b9b09-e52d-41a5-a2ce-59c9f81885fa"
      },
      "outputs": [
        {
          "output_type": "stream",
          "name": "stdout",
          "text": [
            "1. Оптимальная точка(BFGS с аналитическим градиентом): [0.75001, 0.49997, 0.25003]\n",
            "Значение целевой функции в оптимальной точке: -0.375\n",
            "Время выполнения: 0.00682 с \n",
            "\n",
            "2. Оптимальная точка(BFGS с численным градиентом): [0.75001, 0.49997, 0.25003]\n",
            "Значение целевой функции в оптимальной точке: -0.375\n",
            "Время выполнения: 0.01123 с \n",
            "\n",
            "3. Оптимальная точка(L-BFGS с аналитическим градиентом): [0.75, 0.50082, 0.25]\n",
            "Значение целевой функции в оптимальной точке: -0.375\n",
            "Время выполнения: 0.00787 с \n",
            "\n",
            "4. Оптимальная точка(L-BFGS с численным градиентом): [0.75, 0.50082, 0.25]\n",
            "Значение целевой функции в оптимальной точке: -0.375\n",
            "Время выполнения: 0.00516 с \n",
            "\n"
          ]
        }
      ],
      "source": [
        "import time\n",
        "\n",
        "#Сравнение алгоритмов при применении аналитического и численного градиента при инициализации Гессиана единичной матрицей\n",
        "start_time = time.time()\n",
        "result_bfgs1=[round(num, 5) for num in bfgs_optimizer(f, grad_f, x0, H_ones)]\n",
        "end_time = time.time()\n",
        "print(\"1. Оптимальная точка(BFGS с аналитическим градиентом):\", result_bfgs1)\n",
        "print(\"Значение целевой функции в оптимальной точке:\", round(f(result_bfgs1), 5))\n",
        "print(\"Время выполнения:\", round(end_time - start_time, 5), \"с\",\"\\n\")\n",
        "\n",
        "\n",
        "start_time = time.time()\n",
        "result_bfgs2=[round(num, 5) for num in bfgs_optimizer(f, num_grad_f, x0, H_ones)]\n",
        "end_time = time.time()\n",
        "print(\"2. Оптимальная точка(BFGS с численным градиентом):\", result_bfgs2)\n",
        "print(\"Значение целевой функции в оптимальной точке:\", round(f(result_bfgs2), 5))\n",
        "print(\"Время выполнения:\", round(end_time - start_time, 5), \"с\",\"\\n\")\n",
        "\n",
        "start_time = time.time()\n",
        "result_lbfgs1=[round(num, 5) for num in lbfgs_optimizer(f, grad_f, x0, H_ones)]\n",
        "end_time = time.time()\n",
        "print(\"3. Оптимальная точка(L-BFGS с аналитическим градиентом):\", result_lbfgs1)\n",
        "print(\"Значение целевой функции в оптимальной точке:\", round(f(result_lbfgs1), 5))\n",
        "print(\"Время выполнения:\", round(end_time - start_time, 5), \"с\",\"\\n\")\n",
        "\n",
        "start_time = time.time()\n",
        "result_lbfgs2=[round(num, 5) for num in lbfgs_optimizer(f, num_grad_f, x0, H_ones)]\n",
        "end_time = time.time()\n",
        "print(\"4. Оптимальная точка(L-BFGS с численным градиентом):\", result_lbfgs2)\n",
        "print(\"Значение целевой функции в оптимальной точке:\", round(f(result_lbfgs2), 5))\n",
        "print(\"Время выполнения:\", round(end_time - start_time, 5), \"с\",\"\\n\")"
      ]
    },
    {
      "cell_type": "markdown",
      "source": [
        "Как видно из полученных данных, алгоритмы L-BFGS работают быстрее алгоритмов BFGS (минимум в 4 раза). Это объясняется тем, что алгоритм L-BFGS использует ограниченный объем памяти и вычисляет аппроксимацию матрицы Гессе на основе предыдущих шагов и градиентов.\n",
        "\n",
        "При аналитическом задании градиента оба алгоритма работают быстрее варианта с численным заданием градиента, т.к. требуется дополнительное время на вычисление приближенного значения градиента."
      ],
      "metadata": {
        "id": "K2bz6Ct2h-_V"
      }
    },
    {
      "cell_type": "code",
      "source": [
        "#Сравнение алгоритмов при применении аналитического и численного градиента при инициализации Гессиана через вычисленные на основе конечных разностей частные производные целевой функции\n",
        "start_time = time.time()\n",
        "result_bfgs1=[round(num, 5) for num in bfgs_optimizer(f, grad_f, x0, H_approx_initial)]\n",
        "end_time = time.time()\n",
        "print(\"Оптимальная точка(BFGS с аналитическим градиентом):\", result_bfgs1)\n",
        "print(\"Значение целевой функции в оптимальной точке:\", round(f(result_bfgs1), 5))\n",
        "print(\"Время выполнения:\", round(end_time - start_time, 5), \"с\",\"\\n\")\n",
        "\n",
        "\n",
        "start_time = time.time()\n",
        "result_bfgs2=[round(num, 5) for num in bfgs_optimizer(f, num_grad_f, x0, H_approx_initial)]\n",
        "end_time = time.time()\n",
        "print(\"Оптимальная точка(BFGS с численным градиентом):\", result_bfgs2)\n",
        "print(\"Значение целевой функции в оптимальной точке:\", round(f(result_bfgs2), 5))\n",
        "print(\"Время выполнения:\", round(end_time - start_time, 5), \"с\",\"\\n\")\n",
        "\n",
        "start_time = time.time()\n",
        "result_lbfgs1=[round(num, 5) for num in lbfgs_optimizer(f, grad_f,x0, H_approx_initial)]\n",
        "end_time = time.time()\n",
        "print(\"Оптимальная точка(L-BFGS с аналитическим градиентом):\", result_lbfgs1)\n",
        "print(\"Значение целевой функции в оптимальной точке:\", round(f(result_lbfgs1), 5))\n",
        "print(\"Время выполнения:\", round(end_time - start_time, 5), \"с\",\"\\n\")\n",
        "\n",
        "start_time = time.time()\n",
        "result_lbfgs2=[round(num, 5) for num in lbfgs_optimizer(f, num_grad_f, x0, H_approx_initial)]\n",
        "end_time = time.time()\n",
        "print(\"Оптимальная точка(L-BFGS с численным градиентом):\", result_lbfgs2)\n",
        "print(\"Значение целевой функции в оптимальной точке:\", round(f(result_lbfgs2), 5))\n",
        "print(\"Время выполнения:\", round(end_time - start_time, 5), \"с\",\"\\n\")"
      ],
      "metadata": {
        "id": "AmGoaB7ZtlpE",
        "colab": {
          "base_uri": "https://localhost:8080/"
        },
        "outputId": "85b27c88-a6d4-44ae-bfa9-06be1a62c8ba"
      },
      "execution_count": null,
      "outputs": [
        {
          "output_type": "stream",
          "name": "stdout",
          "text": [
            "Оптимальная точка(BFGS с аналитическим градиентом): [0.75, 0.5, 0.25]\n",
            "Значение целевой функции в оптимальной точке: -0.375\n",
            "Время выполнения: 0.00947 с \n",
            "\n",
            "Оптимальная точка(BFGS с численным градиентом): [0.75, 0.5, 0.25]\n",
            "Значение целевой функции в оптимальной точке: -0.375\n",
            "Время выполнения: 0.01227 с \n",
            "\n",
            "Оптимальная точка(L-BFGS с аналитическим градиентом): [0.75053, 0.50075, 0.25037]\n",
            "Значение целевой функции в оптимальной точке: -0.375\n",
            "Время выполнения: 0.00456 с \n",
            "\n",
            "Оптимальная точка(L-BFGS с численным градиентом): [0.75053, 0.50075, 0.25037]\n",
            "Значение целевой функции в оптимальной точке: -0.375\n",
            "Время выполнения: 0.00187 с \n",
            "\n"
          ]
        }
      ]
    },
    {
      "cell_type": "markdown",
      "source": [
        "При использовании инициализации гессиана через вычисленные на основе конечных разностей частные производные целевой функции алгоритм BFGS и L-BFGS работают быстрее в случае численного задания градиента.\n",
        "\n",
        "Если же градиент задан аналитически, то лучше использовать инициализацию гессиана единичной матрицей."
      ],
      "metadata": {
        "id": "lCTqzPpYh8JN"
      }
    },
    {
      "cell_type": "markdown",
      "metadata": {
        "id": "1nwvMA_H1_RC"
      },
      "source": [
        "### 2. Практическое применение: использование метода оптимизации L-BFGS для решения задачи логистической регрессии"
      ]
    },
    {
      "cell_type": "markdown",
      "metadata": {
        "id": "G2Sj_5_Z1_RC"
      },
      "source": [
        "##### Представление набора данных"
      ]
    },
    {
      "cell_type": "code",
      "execution_count": null,
      "metadata": {
        "id": "iwXM08AP1_RD"
      },
      "outputs": [],
      "source": [
        "import pandas as pd\n",
        "from sklearn.datasets import load_breast_cancer\n",
        "data = load_breast_cancer()\n",
        "\n",
        "df = pd.DataFrame(data.data, columns=data.feature_names)\n",
        "df['target'] = data.target"
      ]
    },
    {
      "cell_type": "code",
      "source": [
        "df.head()"
      ],
      "metadata": {
        "colab": {
          "base_uri": "https://localhost:8080/",
          "height": 290
        },
        "id": "e0nMciksKmYQ",
        "outputId": "a2f6175f-aa79-4afa-9e93-3645d9cf234a"
      },
      "execution_count": null,
      "outputs": [
        {
          "output_type": "execute_result",
          "data": {
            "text/plain": [
              "   mean radius  mean texture  mean perimeter  mean area  mean smoothness  \\\n",
              "0        17.99         10.38          122.80     1001.0          0.11840   \n",
              "1        20.57         17.77          132.90     1326.0          0.08474   \n",
              "2        19.69         21.25          130.00     1203.0          0.10960   \n",
              "3        11.42         20.38           77.58      386.1          0.14250   \n",
              "4        20.29         14.34          135.10     1297.0          0.10030   \n",
              "\n",
              "   mean compactness  mean concavity  mean concave points  mean symmetry  \\\n",
              "0           0.27760          0.3001              0.14710         0.2419   \n",
              "1           0.07864          0.0869              0.07017         0.1812   \n",
              "2           0.15990          0.1974              0.12790         0.2069   \n",
              "3           0.28390          0.2414              0.10520         0.2597   \n",
              "4           0.13280          0.1980              0.10430         0.1809   \n",
              "\n",
              "   mean fractal dimension  ...  worst texture  worst perimeter  worst area  \\\n",
              "0                 0.07871  ...          17.33           184.60      2019.0   \n",
              "1                 0.05667  ...          23.41           158.80      1956.0   \n",
              "2                 0.05999  ...          25.53           152.50      1709.0   \n",
              "3                 0.09744  ...          26.50            98.87       567.7   \n",
              "4                 0.05883  ...          16.67           152.20      1575.0   \n",
              "\n",
              "   worst smoothness  worst compactness  worst concavity  worst concave points  \\\n",
              "0            0.1622             0.6656           0.7119                0.2654   \n",
              "1            0.1238             0.1866           0.2416                0.1860   \n",
              "2            0.1444             0.4245           0.4504                0.2430   \n",
              "3            0.2098             0.8663           0.6869                0.2575   \n",
              "4            0.1374             0.2050           0.4000                0.1625   \n",
              "\n",
              "   worst symmetry  worst fractal dimension  target  \n",
              "0          0.4601                  0.11890       0  \n",
              "1          0.2750                  0.08902       0  \n",
              "2          0.3613                  0.08758       0  \n",
              "3          0.6638                  0.17300       0  \n",
              "4          0.2364                  0.07678       0  \n",
              "\n",
              "[5 rows x 31 columns]"
            ],
            "text/html": [
              "\n",
              "  <div id=\"df-d30e9869-796a-4862-ac8d-dae41aba3310\" class=\"colab-df-container\">\n",
              "    <div>\n",
              "<style scoped>\n",
              "    .dataframe tbody tr th:only-of-type {\n",
              "        vertical-align: middle;\n",
              "    }\n",
              "\n",
              "    .dataframe tbody tr th {\n",
              "        vertical-align: top;\n",
              "    }\n",
              "\n",
              "    .dataframe thead th {\n",
              "        text-align: right;\n",
              "    }\n",
              "</style>\n",
              "<table border=\"1\" class=\"dataframe\">\n",
              "  <thead>\n",
              "    <tr style=\"text-align: right;\">\n",
              "      <th></th>\n",
              "      <th>mean radius</th>\n",
              "      <th>mean texture</th>\n",
              "      <th>mean perimeter</th>\n",
              "      <th>mean area</th>\n",
              "      <th>mean smoothness</th>\n",
              "      <th>mean compactness</th>\n",
              "      <th>mean concavity</th>\n",
              "      <th>mean concave points</th>\n",
              "      <th>mean symmetry</th>\n",
              "      <th>mean fractal dimension</th>\n",
              "      <th>...</th>\n",
              "      <th>worst texture</th>\n",
              "      <th>worst perimeter</th>\n",
              "      <th>worst area</th>\n",
              "      <th>worst smoothness</th>\n",
              "      <th>worst compactness</th>\n",
              "      <th>worst concavity</th>\n",
              "      <th>worst concave points</th>\n",
              "      <th>worst symmetry</th>\n",
              "      <th>worst fractal dimension</th>\n",
              "      <th>target</th>\n",
              "    </tr>\n",
              "  </thead>\n",
              "  <tbody>\n",
              "    <tr>\n",
              "      <th>0</th>\n",
              "      <td>17.99</td>\n",
              "      <td>10.38</td>\n",
              "      <td>122.80</td>\n",
              "      <td>1001.0</td>\n",
              "      <td>0.11840</td>\n",
              "      <td>0.27760</td>\n",
              "      <td>0.3001</td>\n",
              "      <td>0.14710</td>\n",
              "      <td>0.2419</td>\n",
              "      <td>0.07871</td>\n",
              "      <td>...</td>\n",
              "      <td>17.33</td>\n",
              "      <td>184.60</td>\n",
              "      <td>2019.0</td>\n",
              "      <td>0.1622</td>\n",
              "      <td>0.6656</td>\n",
              "      <td>0.7119</td>\n",
              "      <td>0.2654</td>\n",
              "      <td>0.4601</td>\n",
              "      <td>0.11890</td>\n",
              "      <td>0</td>\n",
              "    </tr>\n",
              "    <tr>\n",
              "      <th>1</th>\n",
              "      <td>20.57</td>\n",
              "      <td>17.77</td>\n",
              "      <td>132.90</td>\n",
              "      <td>1326.0</td>\n",
              "      <td>0.08474</td>\n",
              "      <td>0.07864</td>\n",
              "      <td>0.0869</td>\n",
              "      <td>0.07017</td>\n",
              "      <td>0.1812</td>\n",
              "      <td>0.05667</td>\n",
              "      <td>...</td>\n",
              "      <td>23.41</td>\n",
              "      <td>158.80</td>\n",
              "      <td>1956.0</td>\n",
              "      <td>0.1238</td>\n",
              "      <td>0.1866</td>\n",
              "      <td>0.2416</td>\n",
              "      <td>0.1860</td>\n",
              "      <td>0.2750</td>\n",
              "      <td>0.08902</td>\n",
              "      <td>0</td>\n",
              "    </tr>\n",
              "    <tr>\n",
              "      <th>2</th>\n",
              "      <td>19.69</td>\n",
              "      <td>21.25</td>\n",
              "      <td>130.00</td>\n",
              "      <td>1203.0</td>\n",
              "      <td>0.10960</td>\n",
              "      <td>0.15990</td>\n",
              "      <td>0.1974</td>\n",
              "      <td>0.12790</td>\n",
              "      <td>0.2069</td>\n",
              "      <td>0.05999</td>\n",
              "      <td>...</td>\n",
              "      <td>25.53</td>\n",
              "      <td>152.50</td>\n",
              "      <td>1709.0</td>\n",
              "      <td>0.1444</td>\n",
              "      <td>0.4245</td>\n",
              "      <td>0.4504</td>\n",
              "      <td>0.2430</td>\n",
              "      <td>0.3613</td>\n",
              "      <td>0.08758</td>\n",
              "      <td>0</td>\n",
              "    </tr>\n",
              "    <tr>\n",
              "      <th>3</th>\n",
              "      <td>11.42</td>\n",
              "      <td>20.38</td>\n",
              "      <td>77.58</td>\n",
              "      <td>386.1</td>\n",
              "      <td>0.14250</td>\n",
              "      <td>0.28390</td>\n",
              "      <td>0.2414</td>\n",
              "      <td>0.10520</td>\n",
              "      <td>0.2597</td>\n",
              "      <td>0.09744</td>\n",
              "      <td>...</td>\n",
              "      <td>26.50</td>\n",
              "      <td>98.87</td>\n",
              "      <td>567.7</td>\n",
              "      <td>0.2098</td>\n",
              "      <td>0.8663</td>\n",
              "      <td>0.6869</td>\n",
              "      <td>0.2575</td>\n",
              "      <td>0.6638</td>\n",
              "      <td>0.17300</td>\n",
              "      <td>0</td>\n",
              "    </tr>\n",
              "    <tr>\n",
              "      <th>4</th>\n",
              "      <td>20.29</td>\n",
              "      <td>14.34</td>\n",
              "      <td>135.10</td>\n",
              "      <td>1297.0</td>\n",
              "      <td>0.10030</td>\n",
              "      <td>0.13280</td>\n",
              "      <td>0.1980</td>\n",
              "      <td>0.10430</td>\n",
              "      <td>0.1809</td>\n",
              "      <td>0.05883</td>\n",
              "      <td>...</td>\n",
              "      <td>16.67</td>\n",
              "      <td>152.20</td>\n",
              "      <td>1575.0</td>\n",
              "      <td>0.1374</td>\n",
              "      <td>0.2050</td>\n",
              "      <td>0.4000</td>\n",
              "      <td>0.1625</td>\n",
              "      <td>0.2364</td>\n",
              "      <td>0.07678</td>\n",
              "      <td>0</td>\n",
              "    </tr>\n",
              "  </tbody>\n",
              "</table>\n",
              "<p>5 rows × 31 columns</p>\n",
              "</div>\n",
              "    <div class=\"colab-df-buttons\">\n",
              "\n",
              "  <div class=\"colab-df-container\">\n",
              "    <button class=\"colab-df-convert\" onclick=\"convertToInteractive('df-d30e9869-796a-4862-ac8d-dae41aba3310')\"\n",
              "            title=\"Convert this dataframe to an interactive table.\"\n",
              "            style=\"display:none;\">\n",
              "\n",
              "  <svg xmlns=\"http://www.w3.org/2000/svg\" height=\"24px\" viewBox=\"0 -960 960 960\">\n",
              "    <path d=\"M120-120v-720h720v720H120Zm60-500h600v-160H180v160Zm220 220h160v-160H400v160Zm0 220h160v-160H400v160ZM180-400h160v-160H180v160Zm440 0h160v-160H620v160ZM180-180h160v-160H180v160Zm440 0h160v-160H620v160Z\"/>\n",
              "  </svg>\n",
              "    </button>\n",
              "\n",
              "  <style>\n",
              "    .colab-df-container {\n",
              "      display:flex;\n",
              "      gap: 12px;\n",
              "    }\n",
              "\n",
              "    .colab-df-convert {\n",
              "      background-color: #E8F0FE;\n",
              "      border: none;\n",
              "      border-radius: 50%;\n",
              "      cursor: pointer;\n",
              "      display: none;\n",
              "      fill: #1967D2;\n",
              "      height: 32px;\n",
              "      padding: 0 0 0 0;\n",
              "      width: 32px;\n",
              "    }\n",
              "\n",
              "    .colab-df-convert:hover {\n",
              "      background-color: #E2EBFA;\n",
              "      box-shadow: 0px 1px 2px rgba(60, 64, 67, 0.3), 0px 1px 3px 1px rgba(60, 64, 67, 0.15);\n",
              "      fill: #174EA6;\n",
              "    }\n",
              "\n",
              "    .colab-df-buttons div {\n",
              "      margin-bottom: 4px;\n",
              "    }\n",
              "\n",
              "    [theme=dark] .colab-df-convert {\n",
              "      background-color: #3B4455;\n",
              "      fill: #D2E3FC;\n",
              "    }\n",
              "\n",
              "    [theme=dark] .colab-df-convert:hover {\n",
              "      background-color: #434B5C;\n",
              "      box-shadow: 0px 1px 3px 1px rgba(0, 0, 0, 0.15);\n",
              "      filter: drop-shadow(0px 1px 2px rgba(0, 0, 0, 0.3));\n",
              "      fill: #FFFFFF;\n",
              "    }\n",
              "  </style>\n",
              "\n",
              "    <script>\n",
              "      const buttonEl =\n",
              "        document.querySelector('#df-d30e9869-796a-4862-ac8d-dae41aba3310 button.colab-df-convert');\n",
              "      buttonEl.style.display =\n",
              "        google.colab.kernel.accessAllowed ? 'block' : 'none';\n",
              "\n",
              "      async function convertToInteractive(key) {\n",
              "        const element = document.querySelector('#df-d30e9869-796a-4862-ac8d-dae41aba3310');\n",
              "        const dataTable =\n",
              "          await google.colab.kernel.invokeFunction('convertToInteractive',\n",
              "                                                    [key], {});\n",
              "        if (!dataTable) return;\n",
              "\n",
              "        const docLinkHtml = 'Like what you see? Visit the ' +\n",
              "          '<a target=\"_blank\" href=https://colab.research.google.com/notebooks/data_table.ipynb>data table notebook</a>'\n",
              "          + ' to learn more about interactive tables.';\n",
              "        element.innerHTML = '';\n",
              "        dataTable['output_type'] = 'display_data';\n",
              "        await google.colab.output.renderOutput(dataTable, element);\n",
              "        const docLink = document.createElement('div');\n",
              "        docLink.innerHTML = docLinkHtml;\n",
              "        element.appendChild(docLink);\n",
              "      }\n",
              "    </script>\n",
              "  </div>\n",
              "\n",
              "\n",
              "<div id=\"df-6a634f72-659d-4e0a-be6f-17edb4f7615e\">\n",
              "  <button class=\"colab-df-quickchart\" onclick=\"quickchart('df-6a634f72-659d-4e0a-be6f-17edb4f7615e')\"\n",
              "            title=\"Suggest charts.\"\n",
              "            style=\"display:none;\">\n",
              "\n",
              "<svg xmlns=\"http://www.w3.org/2000/svg\" height=\"24px\"viewBox=\"0 0 24 24\"\n",
              "     width=\"24px\">\n",
              "    <g>\n",
              "        <path d=\"M19 3H5c-1.1 0-2 .9-2 2v14c0 1.1.9 2 2 2h14c1.1 0 2-.9 2-2V5c0-1.1-.9-2-2-2zM9 17H7v-7h2v7zm4 0h-2V7h2v10zm4 0h-2v-4h2v4z\"/>\n",
              "    </g>\n",
              "</svg>\n",
              "  </button>\n",
              "\n",
              "<style>\n",
              "  .colab-df-quickchart {\n",
              "      --bg-color: #E8F0FE;\n",
              "      --fill-color: #1967D2;\n",
              "      --hover-bg-color: #E2EBFA;\n",
              "      --hover-fill-color: #174EA6;\n",
              "      --disabled-fill-color: #AAA;\n",
              "      --disabled-bg-color: #DDD;\n",
              "  }\n",
              "\n",
              "  [theme=dark] .colab-df-quickchart {\n",
              "      --bg-color: #3B4455;\n",
              "      --fill-color: #D2E3FC;\n",
              "      --hover-bg-color: #434B5C;\n",
              "      --hover-fill-color: #FFFFFF;\n",
              "      --disabled-bg-color: #3B4455;\n",
              "      --disabled-fill-color: #666;\n",
              "  }\n",
              "\n",
              "  .colab-df-quickchart {\n",
              "    background-color: var(--bg-color);\n",
              "    border: none;\n",
              "    border-radius: 50%;\n",
              "    cursor: pointer;\n",
              "    display: none;\n",
              "    fill: var(--fill-color);\n",
              "    height: 32px;\n",
              "    padding: 0;\n",
              "    width: 32px;\n",
              "  }\n",
              "\n",
              "  .colab-df-quickchart:hover {\n",
              "    background-color: var(--hover-bg-color);\n",
              "    box-shadow: 0 1px 2px rgba(60, 64, 67, 0.3), 0 1px 3px 1px rgba(60, 64, 67, 0.15);\n",
              "    fill: var(--button-hover-fill-color);\n",
              "  }\n",
              "\n",
              "  .colab-df-quickchart-complete:disabled,\n",
              "  .colab-df-quickchart-complete:disabled:hover {\n",
              "    background-color: var(--disabled-bg-color);\n",
              "    fill: var(--disabled-fill-color);\n",
              "    box-shadow: none;\n",
              "  }\n",
              "\n",
              "  .colab-df-spinner {\n",
              "    border: 2px solid var(--fill-color);\n",
              "    border-color: transparent;\n",
              "    border-bottom-color: var(--fill-color);\n",
              "    animation:\n",
              "      spin 1s steps(1) infinite;\n",
              "  }\n",
              "\n",
              "  @keyframes spin {\n",
              "    0% {\n",
              "      border-color: transparent;\n",
              "      border-bottom-color: var(--fill-color);\n",
              "      border-left-color: var(--fill-color);\n",
              "    }\n",
              "    20% {\n",
              "      border-color: transparent;\n",
              "      border-left-color: var(--fill-color);\n",
              "      border-top-color: var(--fill-color);\n",
              "    }\n",
              "    30% {\n",
              "      border-color: transparent;\n",
              "      border-left-color: var(--fill-color);\n",
              "      border-top-color: var(--fill-color);\n",
              "      border-right-color: var(--fill-color);\n",
              "    }\n",
              "    40% {\n",
              "      border-color: transparent;\n",
              "      border-right-color: var(--fill-color);\n",
              "      border-top-color: var(--fill-color);\n",
              "    }\n",
              "    60% {\n",
              "      border-color: transparent;\n",
              "      border-right-color: var(--fill-color);\n",
              "    }\n",
              "    80% {\n",
              "      border-color: transparent;\n",
              "      border-right-color: var(--fill-color);\n",
              "      border-bottom-color: var(--fill-color);\n",
              "    }\n",
              "    90% {\n",
              "      border-color: transparent;\n",
              "      border-bottom-color: var(--fill-color);\n",
              "    }\n",
              "  }\n",
              "</style>\n",
              "\n",
              "  <script>\n",
              "    async function quickchart(key) {\n",
              "      const quickchartButtonEl =\n",
              "        document.querySelector('#' + key + ' button');\n",
              "      quickchartButtonEl.disabled = true;  // To prevent multiple clicks.\n",
              "      quickchartButtonEl.classList.add('colab-df-spinner');\n",
              "      try {\n",
              "        const charts = await google.colab.kernel.invokeFunction(\n",
              "            'suggestCharts', [key], {});\n",
              "      } catch (error) {\n",
              "        console.error('Error during call to suggestCharts:', error);\n",
              "      }\n",
              "      quickchartButtonEl.classList.remove('colab-df-spinner');\n",
              "      quickchartButtonEl.classList.add('colab-df-quickchart-complete');\n",
              "    }\n",
              "    (() => {\n",
              "      let quickchartButtonEl =\n",
              "        document.querySelector('#df-6a634f72-659d-4e0a-be6f-17edb4f7615e button');\n",
              "      quickchartButtonEl.style.display =\n",
              "        google.colab.kernel.accessAllowed ? 'block' : 'none';\n",
              "    })();\n",
              "  </script>\n",
              "</div>\n",
              "    </div>\n",
              "  </div>\n"
            ]
          },
          "metadata": {},
          "execution_count": 13
        }
      ]
    },
    {
      "cell_type": "code",
      "source": [
        "df.shape"
      ],
      "metadata": {
        "colab": {
          "base_uri": "https://localhost:8080/"
        },
        "id": "qFHekFMjKplV",
        "outputId": "5a8e4888-5934-4393-d5b3-583d149b6e63"
      },
      "execution_count": null,
      "outputs": [
        {
          "output_type": "execute_result",
          "data": {
            "text/plain": [
              "(569, 31)"
            ]
          },
          "metadata": {},
          "execution_count": 14
        }
      ]
    },
    {
      "cell_type": "code",
      "source": [
        "X = df.drop('target', axis=1).values  # Признаки\n",
        "y = df.target.values  # Целевая переменная (0 - злокачественная опухоль, 1 - доброкачественная опухоль)"
      ],
      "metadata": {
        "id": "kyJQWlC_PGZ3"
      },
      "execution_count": null,
      "outputs": []
    },
    {
      "cell_type": "code",
      "source": [
        "from sklearn.model_selection import train_test_split\n",
        "\n",
        "X_train, X_test, y_train, y_test = train_test_split(X, y, test_size=0.2, random_state=42)"
      ],
      "metadata": {
        "id": "KCvp7_VSNGjE"
      },
      "execution_count": null,
      "outputs": []
    },
    {
      "cell_type": "code",
      "source": [
        "from sklearn.preprocessing import StandardScaler\n",
        "\n",
        "scaler = StandardScaler()\n",
        "X_train = scaler.fit_transform(X_train)\n",
        "X_test = scaler.transform(X_test)"
      ],
      "metadata": {
        "id": "GgE-tWmvNHnu"
      },
      "execution_count": null,
      "outputs": []
    },
    {
      "cell_type": "markdown",
      "metadata": {
        "id": "FhkvLhPZ1_RD"
      },
      "source": [
        "##### Реализация логистической регрессии"
      ]
    },
    {
      "cell_type": "code",
      "source": [
        "from sklearn.metrics import accuracy_score, precision_score, recall_score, f1_score\n",
        "\n",
        "def sigmoid(z):\n",
        "    return 1 / (1 + np.exp(-z))\n",
        "\n",
        "def f(theta):\n",
        "    m = len(y_train)\n",
        "    h = sigmoid(X_train.dot(theta))\n",
        "    epsilon = 1e-5\n",
        "\n",
        "    J = (-1/m) * (y_train.dot(np.log(h + epsilon)) + (1 - y_train).dot(np.log(1 - h + epsilon))) + (lambda_reg / (2 * m)) * np.sum(theta[1:]**2)\n",
        "\n",
        "    return J\n",
        "\n",
        "def grad(theta):\n",
        "    m = len(y_train)\n",
        "    h = sigmoid(X_train.dot(theta))\n",
        "\n",
        "    gradient = (1/m) * X_train.T.dot(h - y_train) + (lambda_reg / m) * np.r_[0, theta[1:]]\n",
        "\n",
        "    return gradient\n",
        "\n",
        "initial_theta = np.zeros(X_train.shape[1])\n",
        "\n",
        "lambda_reg = 1\n",
        "\n",
        "def LBFGS_test_H_ones():\n",
        "\n",
        "    # Минимизация функции потерь с помощью BFGS bfgs_optimizer(f, grad_f, x0, max_iter=100, tol=1e-6):\n",
        "    start_time = time.time()\n",
        "    optimized_theta = lbfgs_optimizer(f, grad, initial_theta, H_ones)\n",
        "    end_time = time.time()\n",
        "\n",
        "    y_pred = sigmoid(X_test.dot(optimized_theta))\n",
        "\n",
        "    threshold = 0.5\n",
        "\n",
        "    y_pred_binary = (y_pred > threshold).astype(int)\n",
        "    accuracy = accuracy_score(y_test, y_pred_binary)\n",
        "    precision = precision_score(y_test, y_pred_binary)\n",
        "    recall = recall_score(y_test, y_pred_binary)\n",
        "    f1 = f1_score(y_test, y_pred_binary)\n",
        "\n",
        "    accuracy = round(accuracy, 4)\n",
        "    precision = round(precision, 4)\n",
        "    recall = round(recall, 4)\n",
        "    f1 = round(f1, 4)\n",
        "\n",
        "    print(\"LBFGS_H_ones\")\n",
        "    print(\"Accuracy:\", accuracy)\n",
        "    print(\"Precision:\", precision)\n",
        "    print(\"Recall:\", recall)\n",
        "    print(\"F1-Score:\", f1)\n",
        "    print(\"Time:\", end_time-start_time)\n",
        "\n",
        "\n",
        "\n",
        "def LBFGS_test_H_approx_initial():\n",
        "\n",
        "    # Минимизация функции потерь с помощью BFGS bfgs_optimizer(f, grad_f, x0, max_iter=100, tol=1e-6):\n",
        "    # def H_approx_initial(x, f=f, h=1e-6):\n",
        "    start_time = time.time()\n",
        "    optimized_theta = lbfgs_optimizer(f, grad, initial_theta, H_approx_initial)\n",
        "    end_time = time.time()\n",
        "\n",
        "    y_pred = sigmoid(X_test.dot(optimized_theta))\n",
        "\n",
        "    threshold = 0.5\n",
        "\n",
        "    y_pred_binary = (y_pred > threshold).astype(int)\n",
        "    accuracy = accuracy_score(y_test, y_pred_binary)\n",
        "    precision = precision_score(y_test, y_pred_binary)\n",
        "    recall = recall_score(y_test, y_pred_binary)\n",
        "    f1 = f1_score(y_test, y_pred_binary)\n",
        "\n",
        "    accuracy = round(accuracy, 4)\n",
        "    precision = round(precision, 4)\n",
        "    recall = round(recall, 4)\n",
        "    f1 = round(f1, 4)\n",
        "\n",
        "    print(\"LBFGS_H_approx_initial\")\n",
        "    print(\"Accuracy:\", accuracy)\n",
        "    print(\"Precision:\", precision)\n",
        "    print(\"Recall:\", recall)\n",
        "    print(\"F1-Score:\", f1)\n",
        "    print(\"Time:\", end_time-start_time)\n"
      ],
      "metadata": {
        "id": "ypgUbLyhMKsT"
      },
      "execution_count": null,
      "outputs": []
    },
    {
      "cell_type": "markdown",
      "metadata": {
        "id": "Wikc4f_71_RD"
      },
      "source": [
        "##### Сравнение характеристики работы алгоритмов"
      ]
    },
    {
      "cell_type": "code",
      "execution_count": null,
      "metadata": {
        "id": "slKNTIBD1_RD",
        "colab": {
          "base_uri": "https://localhost:8080/"
        },
        "outputId": "3101503c-1bba-46d0-8844-87a75cafb0f9"
      },
      "outputs": [
        {
          "output_type": "stream",
          "name": "stdout",
          "text": [
            "LBFGS_H_ones\n",
            "Accuracy: 0.9825\n",
            "Precision: 0.9859\n",
            "Recall: 0.9859\n",
            "F1-Score: 0.9859\n",
            "Time: 0.5061604976654053\n",
            "------------\n",
            "LBFGS_H_approx_initial\n",
            "Accuracy: 0.9035\n",
            "Precision: 0.9412\n",
            "Recall: 0.9014\n",
            "F1-Score: 0.9209\n",
            "Time: 0.35474061965942383\n"
          ]
        }
      ],
      "source": [
        "LBFGS_test_H_ones()\n",
        "print(\"------------\")\n",
        "LBFGS_test_H_approx_initial()"
      ]
    },
    {
      "cell_type": "markdown",
      "source": [
        "Алгоритм L-BFGS работает эффективно и дает хорошие результаты для задачи логистической регрессии.\n",
        "\n",
        "Использование инициализации матрицы Гессе через единичную матрицу приводит к более высокой точности по сравнению с использованием инициализации через вычисленные на основе конечных разностей частные производные целевой функции.\n",
        "\n",
        "Оба варианта показывают хорошую производительность, и разница во времени выполнения небольшая."
      ],
      "metadata": {
        "id": "yngQ3oP_nJxM"
      }
    }
  ],
  "metadata": {
    "language_info": {
      "name": "python"
    },
    "orig_nbformat": 4,
    "colab": {
      "provenance": [],
      "include_colab_link": true
    },
    "kernelspec": {
      "name": "python3",
      "display_name": "Python 3"
    }
  },
  "nbformat": 4,
  "nbformat_minor": 0
}